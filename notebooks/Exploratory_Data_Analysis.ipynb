{
 "cells": [
  {
   "cell_type": "markdown",
   "id": "7ac2ba64",
   "metadata": {},
   "source": [
    "# <u>Exploratory Data Analysis on Raw Data</u>\n"
   ]
  },
  {
   "cell_type": "markdown",
   "id": "0cd80836",
   "metadata": {},
   "source": [
    "\n",
    "As a first step in building our movie recommendation system, we begin by exploring the raw dataset to better understand the structure and content of the data. This notebook aims to provide an overview of the key variables, identify potential issues in the raw files, and highlight which aspects of the data may require processing.\n",
    "\n",
    "Additionally, it serves to identify valuable information that can be extracted or constructed through feature engineering to enhance the quality of the recommendations."
   ]
  },
  {
   "cell_type": "markdown",
   "id": "5445403a",
   "metadata": {},
   "source": [
    "## <u>0. Kaggle information:</u>"
   ]
  },
  {
   "cell_type": "markdown",
   "id": "a1d5ba4d",
   "metadata": {},
   "source": [
    "\n",
    "The dataset describes ratings and free-text tagging activities from MovieLens, a movie recommendation service. It contains 20,000,263 ratings and 465,564 tag applications across 27,278 movies. These data were created by 138,493 users between January 9, 1995 and March 31, 2015. The dataset was generated on October 17, 2016.  \n",
    "Users were selected at random for inclusion. All selected users had rated at least 20 movies and no demographic information is included.  \n",
    "Each user is represented by a unique `userId`.\n",
    "\n",
    "\n",
    "The dataset consists of **six files**:\n",
    "\n",
    "**`ratings.csv`**: Contains ratings of movies by users.\n",
    "\n",
    "- userId: ID of the user  \n",
    "- movieId: ID of the movie  \n",
    "- rating: User-assigned score for a movie, ranging from 0.5 to 5.0 in steps of 0.5. \n",
    "- timestamp: time of the rating  \n",
    "\n",
    "**`tags.csv`**: Contains tags applied to movies by users.\n",
    "\n",
    "- userId: ID of the user  \n",
    "- movieId: ID of the movie  \n",
    "- tag: free-text tag  \n",
    "- timestamp: time of tagging  \n",
    "\n",
    "**`movies.csv`**: Contains movie information.\n",
    "\n",
    "- movieId: ID of the movie  \n",
    "- title: title of the movie  \n",
    "- genres: pipe-separated list of genres  \n",
    "\n",
    "**`links.csv`**: Contains identifiers linking MovieLens to external databases.\n",
    "\n",
    "- movieId: ID of the movie  \n",
    "- imdbId: corresponding IMDb ID  \n",
    "- tmdbId: corresponding TMDb ID  \n",
    "\n",
    "**`genome_scores.csv`**: Contains movie–tag relevance scores.\n",
    "\n",
    "- movieId: ID of the movie  \n",
    "- tagId: ID of the tag  \n",
    "- relevance: strength of association between the tag and movie  \n",
    "\n",
    "**`genome_tags.csv`**: Contains tag descriptions.\n",
    "\n",
    "- tagId: ID of the tag  \n",
    "- tag: tag text  \n"
   ]
  },
  {
   "cell_type": "markdown",
   "id": "f7eb25d9",
   "metadata": {},
   "source": [
    "## <u>1. Import data and first insights on the datasets</u>"
   ]
  },
  {
   "cell_type": "code",
   "execution_count": 1,
   "id": "5f0a8d1d",
   "metadata": {},
   "outputs": [],
   "source": [
    "# Import necessary libraries\n",
    "import pandas as pd, numpy as np, os, sys, seaborn as sns, matplotlib.pyplot as plt\n",
    "\n",
    "# Set the working directory\n",
    "current_dir = os.getcwd()\n",
    "\n",
    "project_root = os.path.abspath(os.path.join(current_dir, \"..\"))\n",
    "if project_root not in sys.path:\n",
    "    sys.path.append(project_root)\n",
    "\n",
    "# Import module for data processing\n",
    "from modules.data_analysis import *\n"
   ]
  },
  {
   "cell_type": "code",
   "execution_count": 2,
   "id": "740e2dac",
   "metadata": {},
   "outputs": [],
   "source": [
    "# Import dataset\n",
    "rating_df = pd.read_csv('../data/raw/rating.csv', parse_dates=[\"timestamp\"])\n",
    "tag_df = pd.read_csv('../data/raw/tag.csv', parse_dates=[\"timestamp\"])\n",
    "movie_df = pd.read_csv('../data/raw/movie.csv')\n",
    "link_df = pd.read_csv('../data/raw/link.csv')\n",
    "genome_score_df = pd.read_csv('../data/raw/genome_scores.csv')\n",
    "genome_tags_df = pd.read_csv('../data/raw/genome_tags.csv')"
   ]
  },
  {
   "cell_type": "markdown",
   "id": "2a3fa6fc",
   "metadata": {},
   "source": [
    "### <u>1.1 rating.csv</u>"
   ]
  },
  {
   "cell_type": "markdown",
   "id": "554dc4e3",
   "metadata": {},
   "source": [
    "As shown in the summary below, all columns appear clean and properly formatted, with no missing values or duplicates.\n",
    "\n",
    "- `userId` and `movieId` will be used for joining datasets and constructing the interaction structure for modeling.\n",
    "- `rating` serves as the main feedback signal for both the KNN baseline and the graph-based models.\n",
    "- `timestamp`, while currently unused, may contain underlying patterns that could influence user behavior or rating trends.\n",
    "\n",
    "Later in this notebook, we will examine whether the timestamp column reflects any systematic patterns, such as rating inflation over time or shifts in rating behavior across different user cohorts. If such trends are detected, we will consider extracting temporal features to enrich the model. Otherwise, the column will be safely removed.\n",
    "\n"
   ]
  },
  {
   "cell_type": "code",
   "execution_count": 3,
   "id": "d7168dc8",
   "metadata": {},
   "outputs": [
    {
     "name": "stdout",
     "output_type": "stream",
     "text": [
      "<class 'pandas.core.frame.DataFrame'>\n",
      "RangeIndex: 20000263 entries, 0 to 20000262\n",
      "Data columns (total 4 columns):\n",
      " #   Column     Dtype         \n",
      "---  ------     -----         \n",
      " 0   userId     int64         \n",
      " 1   movieId    int64         \n",
      " 2   rating     float64       \n",
      " 3   timestamp  datetime64[ns]\n",
      "dtypes: datetime64[ns](1), float64(1), int64(2)\n",
      "memory usage: 610.4 MB\n"
     ]
    }
   ],
   "source": [
    "rating_df.info()"
   ]
  },
  {
   "cell_type": "code",
   "execution_count": 4,
   "id": "e5379222",
   "metadata": {},
   "outputs": [
    {
     "data": {
      "text/html": [
       "<div>\n",
       "<style scoped>\n",
       "    .dataframe tbody tr th:only-of-type {\n",
       "        vertical-align: middle;\n",
       "    }\n",
       "\n",
       "    .dataframe tbody tr th {\n",
       "        vertical-align: top;\n",
       "    }\n",
       "\n",
       "    .dataframe thead th {\n",
       "        text-align: right;\n",
       "    }\n",
       "</style>\n",
       "<table border=\"1\" class=\"dataframe\">\n",
       "  <thead>\n",
       "    <tr style=\"text-align: right;\">\n",
       "      <th></th>\n",
       "      <th>userId</th>\n",
       "      <th>movieId</th>\n",
       "      <th>rating</th>\n",
       "      <th>timestamp</th>\n",
       "    </tr>\n",
       "  </thead>\n",
       "  <tbody>\n",
       "    <tr>\n",
       "      <th>0</th>\n",
       "      <td>1</td>\n",
       "      <td>2</td>\n",
       "      <td>3.5</td>\n",
       "      <td>2005-04-02 23:53:47</td>\n",
       "    </tr>\n",
       "    <tr>\n",
       "      <th>1</th>\n",
       "      <td>1</td>\n",
       "      <td>29</td>\n",
       "      <td>3.5</td>\n",
       "      <td>2005-04-02 23:31:16</td>\n",
       "    </tr>\n",
       "    <tr>\n",
       "      <th>2</th>\n",
       "      <td>1</td>\n",
       "      <td>32</td>\n",
       "      <td>3.5</td>\n",
       "      <td>2005-04-02 23:33:39</td>\n",
       "    </tr>\n",
       "  </tbody>\n",
       "</table>\n",
       "</div>"
      ],
      "text/plain": [
       "   userId  movieId  rating           timestamp\n",
       "0       1        2     3.5 2005-04-02 23:53:47\n",
       "1       1       29     3.5 2005-04-02 23:31:16\n",
       "2       1       32     3.5 2005-04-02 23:33:39"
      ]
     },
     "execution_count": 4,
     "metadata": {},
     "output_type": "execute_result"
    }
   ],
   "source": [
    "rating_df.head(3)"
   ]
  },
  {
   "cell_type": "code",
   "execution_count": 5,
   "id": "6120919f",
   "metadata": {},
   "outputs": [
    {
     "data": {
      "text/plain": [
       "count    2.000026e+07\n",
       "mean     3.525529e+00\n",
       "std      1.051989e+00\n",
       "min      5.000000e-01\n",
       "25%      3.000000e+00\n",
       "50%      3.500000e+00\n",
       "75%      4.000000e+00\n",
       "max      5.000000e+00\n",
       "Name: rating, dtype: float64"
      ]
     },
     "execution_count": 5,
     "metadata": {},
     "output_type": "execute_result"
    }
   ],
   "source": [
    "# Display basic statistics of the 'rating' column\n",
    "rating_df['rating'].describe()"
   ]
  },
  {
   "cell_type": "code",
   "execution_count": 6,
   "id": "6112e58b",
   "metadata": {},
   "outputs": [
    {
     "name": "stdout",
     "output_type": "stream",
     "text": [
      "Missing values per column:\n",
      "userId       0\n",
      "movieId      0\n",
      "rating       0\n",
      "timestamp    0\n",
      "dtype: int64\n",
      "\n",
      "Number of duplicate rows:\n",
      "0\n",
      "\n",
      "Unique values per column:\n",
      "userId         138493\n",
      "movieId         26744\n",
      "rating             10\n",
      "timestamp    15351121\n",
      "dtype: int64\n"
     ]
    }
   ],
   "source": [
    "data_quality_summary(rating_df)"
   ]
  },
  {
   "cell_type": "markdown",
   "id": "31055d31",
   "metadata": {},
   "source": [
    "### <u>1.2 tag.csv</u>"
   ]
  },
  {
   "cell_type": "markdown",
   "id": "9f2316df",
   "metadata": {},
   "source": [
    "From the analysis of the dataset we have identified 16 missing values in the tag column, mostly from a single user. Given their small number and lack of useful content, we removed these rows as they do not contribute meaningful information to the dataset.  \n",
    "The `tag` column will primarily be used to enrich the graph structure by serving as intermediary nodes between users and movies, by adding a semantic connections that go beyond simple rating information."
   ]
  },
  {
   "cell_type": "code",
   "execution_count": 7,
   "id": "3d0d0f3e",
   "metadata": {},
   "outputs": [
    {
     "name": "stdout",
     "output_type": "stream",
     "text": [
      "<class 'pandas.core.frame.DataFrame'>\n",
      "RangeIndex: 465564 entries, 0 to 465563\n",
      "Data columns (total 4 columns):\n",
      " #   Column     Non-Null Count   Dtype         \n",
      "---  ------     --------------   -----         \n",
      " 0   userId     465564 non-null  int64         \n",
      " 1   movieId    465564 non-null  int64         \n",
      " 2   tag        465548 non-null  object        \n",
      " 3   timestamp  465564 non-null  datetime64[ns]\n",
      "dtypes: datetime64[ns](1), int64(2), object(1)\n",
      "memory usage: 14.2+ MB\n"
     ]
    }
   ],
   "source": [
    "tag_df.info()"
   ]
  },
  {
   "cell_type": "code",
   "execution_count": 8,
   "id": "8f5c9d2e",
   "metadata": {},
   "outputs": [
    {
     "data": {
      "text/html": [
       "<div>\n",
       "<style scoped>\n",
       "    .dataframe tbody tr th:only-of-type {\n",
       "        vertical-align: middle;\n",
       "    }\n",
       "\n",
       "    .dataframe tbody tr th {\n",
       "        vertical-align: top;\n",
       "    }\n",
       "\n",
       "    .dataframe thead th {\n",
       "        text-align: right;\n",
       "    }\n",
       "</style>\n",
       "<table border=\"1\" class=\"dataframe\">\n",
       "  <thead>\n",
       "    <tr style=\"text-align: right;\">\n",
       "      <th></th>\n",
       "      <th>userId</th>\n",
       "      <th>movieId</th>\n",
       "      <th>tag</th>\n",
       "      <th>timestamp</th>\n",
       "    </tr>\n",
       "  </thead>\n",
       "  <tbody>\n",
       "    <tr>\n",
       "      <th>0</th>\n",
       "      <td>18</td>\n",
       "      <td>4141</td>\n",
       "      <td>Mark Waters</td>\n",
       "      <td>2009-04-24 18:19:40</td>\n",
       "    </tr>\n",
       "    <tr>\n",
       "      <th>1</th>\n",
       "      <td>65</td>\n",
       "      <td>208</td>\n",
       "      <td>dark hero</td>\n",
       "      <td>2013-05-10 01:41:18</td>\n",
       "    </tr>\n",
       "    <tr>\n",
       "      <th>2</th>\n",
       "      <td>65</td>\n",
       "      <td>353</td>\n",
       "      <td>dark hero</td>\n",
       "      <td>2013-05-10 01:41:19</td>\n",
       "    </tr>\n",
       "  </tbody>\n",
       "</table>\n",
       "</div>"
      ],
      "text/plain": [
       "   userId  movieId          tag           timestamp\n",
       "0      18     4141  Mark Waters 2009-04-24 18:19:40\n",
       "1      65      208    dark hero 2013-05-10 01:41:18\n",
       "2      65      353    dark hero 2013-05-10 01:41:19"
      ]
     },
     "execution_count": 8,
     "metadata": {},
     "output_type": "execute_result"
    }
   ],
   "source": [
    "tag_df.head(3)"
   ]
  },
  {
   "cell_type": "code",
   "execution_count": 9,
   "id": "52480160",
   "metadata": {},
   "outputs": [
    {
     "name": "stdout",
     "output_type": "stream",
     "text": [
      "Missing values per column:\n",
      "userId        0\n",
      "movieId       0\n",
      "tag          16\n",
      "timestamp     0\n",
      "dtype: int64\n",
      "\n",
      "Number of duplicate rows:\n",
      "0\n",
      "\n",
      "Unique values per column:\n",
      "userId         7801\n",
      "movieId       19545\n",
      "tag           38643\n",
      "timestamp    425373\n",
      "dtype: int64\n"
     ]
    }
   ],
   "source": [
    "data_quality_summary(tag_df)"
   ]
  },
  {
   "cell_type": "code",
   "execution_count": 10,
   "id": "96d23d46",
   "metadata": {},
   "outputs": [
    {
     "name": "stdout",
     "output_type": "stream",
     "text": [
      "   userId  missing_tag_count\n",
      "0  116460                 15\n",
      "1  133634                  1\n"
     ]
    }
   ],
   "source": [
    "# Check distribution of missing tags over users\n",
    "missing_tags_summary = (\n",
    "    tag_df[tag_df['tag'].isnull()]\n",
    "    .groupby('userId')\n",
    "    .size()\n",
    "    .reset_index(name='missing_tag_count')\n",
    ")\n",
    "\n",
    "print(missing_tags_summary)\n"
   ]
  },
  {
   "cell_type": "markdown",
   "id": "345c62ba",
   "metadata": {},
   "source": [
    "### <u>1.3 movie.csv</u>"
   ]
  },
  {
   "cell_type": "markdown",
   "id": "f32106ba",
   "metadata": {},
   "source": [
    "From a quick analysis of the dataset, we observe that there are no missing values or duplicate rows.  \n",
    "- `title`: While the title column does not provide additional modeling value beyond the movieId, it will be useful later for interpretation and visualization of the results.    \n",
    "- `genre`: Similar to the tag column in the previous dataframe, genre will play a key role in enriching the semantic structure of the graph and enhancing the similarity relationships between movies. Given its multi-label nature, we will later process it either through multi-hot encoding or by expanding each movie into multiple rows, each associated with a single genre."
   ]
  },
  {
   "cell_type": "code",
   "execution_count": 11,
   "id": "0c863f2e",
   "metadata": {},
   "outputs": [
    {
     "name": "stdout",
     "output_type": "stream",
     "text": [
      "<class 'pandas.core.frame.DataFrame'>\n",
      "RangeIndex: 27278 entries, 0 to 27277\n",
      "Data columns (total 3 columns):\n",
      " #   Column   Non-Null Count  Dtype \n",
      "---  ------   --------------  ----- \n",
      " 0   movieId  27278 non-null  int64 \n",
      " 1   title    27278 non-null  object\n",
      " 2   genres   27278 non-null  object\n",
      "dtypes: int64(1), object(2)\n",
      "memory usage: 639.5+ KB\n"
     ]
    }
   ],
   "source": [
    "movie_df.info()"
   ]
  },
  {
   "cell_type": "code",
   "execution_count": 12,
   "id": "e2f8ed58",
   "metadata": {},
   "outputs": [
    {
     "data": {
      "text/html": [
       "<div>\n",
       "<style scoped>\n",
       "    .dataframe tbody tr th:only-of-type {\n",
       "        vertical-align: middle;\n",
       "    }\n",
       "\n",
       "    .dataframe tbody tr th {\n",
       "        vertical-align: top;\n",
       "    }\n",
       "\n",
       "    .dataframe thead th {\n",
       "        text-align: right;\n",
       "    }\n",
       "</style>\n",
       "<table border=\"1\" class=\"dataframe\">\n",
       "  <thead>\n",
       "    <tr style=\"text-align: right;\">\n",
       "      <th></th>\n",
       "      <th>movieId</th>\n",
       "      <th>title</th>\n",
       "      <th>genres</th>\n",
       "    </tr>\n",
       "  </thead>\n",
       "  <tbody>\n",
       "    <tr>\n",
       "      <th>0</th>\n",
       "      <td>1</td>\n",
       "      <td>Toy Story (1995)</td>\n",
       "      <td>Adventure|Animation|Children|Comedy|Fantasy</td>\n",
       "    </tr>\n",
       "    <tr>\n",
       "      <th>1</th>\n",
       "      <td>2</td>\n",
       "      <td>Jumanji (1995)</td>\n",
       "      <td>Adventure|Children|Fantasy</td>\n",
       "    </tr>\n",
       "    <tr>\n",
       "      <th>2</th>\n",
       "      <td>3</td>\n",
       "      <td>Grumpier Old Men (1995)</td>\n",
       "      <td>Comedy|Romance</td>\n",
       "    </tr>\n",
       "  </tbody>\n",
       "</table>\n",
       "</div>"
      ],
      "text/plain": [
       "   movieId                    title  \\\n",
       "0        1         Toy Story (1995)   \n",
       "1        2           Jumanji (1995)   \n",
       "2        3  Grumpier Old Men (1995)   \n",
       "\n",
       "                                        genres  \n",
       "0  Adventure|Animation|Children|Comedy|Fantasy  \n",
       "1                   Adventure|Children|Fantasy  \n",
       "2                               Comedy|Romance  "
      ]
     },
     "execution_count": 12,
     "metadata": {},
     "output_type": "execute_result"
    }
   ],
   "source": [
    "movie_df.head(3)"
   ]
  },
  {
   "cell_type": "code",
   "execution_count": 13,
   "id": "b234950b",
   "metadata": {},
   "outputs": [
    {
     "name": "stdout",
     "output_type": "stream",
     "text": [
      "Missing values per column:\n",
      "movieId    0\n",
      "title      0\n",
      "genres     0\n",
      "dtype: int64\n",
      "\n",
      "Number of duplicate rows:\n",
      "0\n",
      "\n",
      "Unique values per column:\n",
      "movieId    27278\n",
      "title      27262\n",
      "genres      1342\n",
      "dtype: int64\n"
     ]
    }
   ],
   "source": [
    "data_quality_summary(movie_df)"
   ]
  },
  {
   "cell_type": "markdown",
   "id": "63c038a5",
   "metadata": {},
   "source": [
    "### <u>1.4 link.csv</u>"
   ]
  },
  {
   "cell_type": "markdown",
   "id": "186e6f56",
   "metadata": {},
   "source": [
    "Given the nature of the project, we can ignore the link.csv file, as our goal is not to include external information from other databases. This file could be useful in future applications, in combination with web scraping or APIs, to expand the dataset with additional metadata or reviews."
   ]
  },
  {
   "cell_type": "markdown",
   "id": "773b7ca8",
   "metadata": {},
   "source": [
    "#### <u>1.5 genome_scores.csv</u>"
   ]
  },
  {
   "cell_type": "markdown",
   "id": "7380e785",
   "metadata": {},
   "source": [
    "The genome_scores.csv file will be useful for linking tags to movies using weighted relevance scores. This helps identify similar movies based on shared tag profiles and adds more meaningful connections between movies. There are no missing values or duplicates, and the format and value range look correct."
   ]
  },
  {
   "cell_type": "code",
   "execution_count": 14,
   "id": "383aaaef",
   "metadata": {},
   "outputs": [
    {
     "name": "stdout",
     "output_type": "stream",
     "text": [
      "<class 'pandas.core.frame.DataFrame'>\n",
      "RangeIndex: 11709768 entries, 0 to 11709767\n",
      "Data columns (total 3 columns):\n",
      " #   Column     Dtype  \n",
      "---  ------     -----  \n",
      " 0   movieId    int64  \n",
      " 1   tagId      int64  \n",
      " 2   relevance  float64\n",
      "dtypes: float64(1), int64(2)\n",
      "memory usage: 268.0 MB\n"
     ]
    }
   ],
   "source": [
    "genome_score_df.info()"
   ]
  },
  {
   "cell_type": "code",
   "execution_count": 15,
   "id": "dd0cdf51",
   "metadata": {},
   "outputs": [
    {
     "data": {
      "text/html": [
       "<div>\n",
       "<style scoped>\n",
       "    .dataframe tbody tr th:only-of-type {\n",
       "        vertical-align: middle;\n",
       "    }\n",
       "\n",
       "    .dataframe tbody tr th {\n",
       "        vertical-align: top;\n",
       "    }\n",
       "\n",
       "    .dataframe thead th {\n",
       "        text-align: right;\n",
       "    }\n",
       "</style>\n",
       "<table border=\"1\" class=\"dataframe\">\n",
       "  <thead>\n",
       "    <tr style=\"text-align: right;\">\n",
       "      <th></th>\n",
       "      <th>movieId</th>\n",
       "      <th>tagId</th>\n",
       "      <th>relevance</th>\n",
       "    </tr>\n",
       "  </thead>\n",
       "  <tbody>\n",
       "    <tr>\n",
       "      <th>0</th>\n",
       "      <td>1</td>\n",
       "      <td>1</td>\n",
       "      <td>0.02500</td>\n",
       "    </tr>\n",
       "    <tr>\n",
       "      <th>1</th>\n",
       "      <td>1</td>\n",
       "      <td>2</td>\n",
       "      <td>0.02500</td>\n",
       "    </tr>\n",
       "    <tr>\n",
       "      <th>2</th>\n",
       "      <td>1</td>\n",
       "      <td>3</td>\n",
       "      <td>0.05775</td>\n",
       "    </tr>\n",
       "  </tbody>\n",
       "</table>\n",
       "</div>"
      ],
      "text/plain": [
       "   movieId  tagId  relevance\n",
       "0        1      1    0.02500\n",
       "1        1      2    0.02500\n",
       "2        1      3    0.05775"
      ]
     },
     "execution_count": 15,
     "metadata": {},
     "output_type": "execute_result"
    }
   ],
   "source": [
    "genome_score_df.head(3)"
   ]
  },
  {
   "cell_type": "code",
   "execution_count": 16,
   "id": "972733f0",
   "metadata": {},
   "outputs": [
    {
     "data": {
      "text/plain": [
       "count    1.170977e+07\n",
       "mean     1.164833e-01\n",
       "std      1.542463e-01\n",
       "min      2.500000e-04\n",
       "25%      2.425000e-02\n",
       "50%      5.650000e-02\n",
       "75%      1.415000e-01\n",
       "max      1.000000e+00\n",
       "Name: relevance, dtype: float64"
      ]
     },
     "execution_count": 16,
     "metadata": {},
     "output_type": "execute_result"
    }
   ],
   "source": [
    "genome_score_df[\"relevance\"].describe()"
   ]
  },
  {
   "cell_type": "code",
   "execution_count": 17,
   "id": "b9b66172",
   "metadata": {},
   "outputs": [
    {
     "name": "stdout",
     "output_type": "stream",
     "text": [
      "Missing values per column:\n",
      "movieId      0\n",
      "tagId        0\n",
      "relevance    0\n",
      "dtype: int64\n",
      "\n",
      "Number of duplicate rows:\n",
      "0\n",
      "\n",
      "Unique values per column:\n",
      "movieId      10381\n",
      "tagId         1128\n",
      "relevance     4000\n",
      "dtype: int64\n"
     ]
    }
   ],
   "source": [
    "data_quality_summary(genome_score_df)"
   ]
  },
  {
   "cell_type": "markdown",
   "id": "078f38d9",
   "metadata": {},
   "source": [
    "### <u>1.6 genome_tags.csv</u>"
   ]
  },
  {
   "cell_type": "markdown",
   "id": "efb8cbb3",
   "metadata": {},
   "source": [
    "This dataset will allow us to maps each tagId to its corresponding tag text. It will be used to merge readable tag names with the relevance scores in genome_scores.csv. As expected, the tagId values match between the two files."
   ]
  },
  {
   "cell_type": "code",
   "execution_count": 18,
   "id": "bd8e63cc",
   "metadata": {},
   "outputs": [
    {
     "name": "stdout",
     "output_type": "stream",
     "text": [
      "<class 'pandas.core.frame.DataFrame'>\n",
      "RangeIndex: 1128 entries, 0 to 1127\n",
      "Data columns (total 2 columns):\n",
      " #   Column  Non-Null Count  Dtype \n",
      "---  ------  --------------  ----- \n",
      " 0   tagId   1128 non-null   int64 \n",
      " 1   tag     1128 non-null   object\n",
      "dtypes: int64(1), object(1)\n",
      "memory usage: 17.8+ KB\n"
     ]
    }
   ],
   "source": [
    "genome_tags_df.info()"
   ]
  },
  {
   "cell_type": "code",
   "execution_count": 19,
   "id": "d0d95d81",
   "metadata": {},
   "outputs": [
    {
     "data": {
      "text/html": [
       "<div>\n",
       "<style scoped>\n",
       "    .dataframe tbody tr th:only-of-type {\n",
       "        vertical-align: middle;\n",
       "    }\n",
       "\n",
       "    .dataframe tbody tr th {\n",
       "        vertical-align: top;\n",
       "    }\n",
       "\n",
       "    .dataframe thead th {\n",
       "        text-align: right;\n",
       "    }\n",
       "</style>\n",
       "<table border=\"1\" class=\"dataframe\">\n",
       "  <thead>\n",
       "    <tr style=\"text-align: right;\">\n",
       "      <th></th>\n",
       "      <th>tagId</th>\n",
       "      <th>tag</th>\n",
       "    </tr>\n",
       "  </thead>\n",
       "  <tbody>\n",
       "    <tr>\n",
       "      <th>0</th>\n",
       "      <td>1</td>\n",
       "      <td>007</td>\n",
       "    </tr>\n",
       "    <tr>\n",
       "      <th>1</th>\n",
       "      <td>2</td>\n",
       "      <td>007 (series)</td>\n",
       "    </tr>\n",
       "    <tr>\n",
       "      <th>2</th>\n",
       "      <td>3</td>\n",
       "      <td>18th century</td>\n",
       "    </tr>\n",
       "  </tbody>\n",
       "</table>\n",
       "</div>"
      ],
      "text/plain": [
       "   tagId           tag\n",
       "0      1           007\n",
       "1      2  007 (series)\n",
       "2      3  18th century"
      ]
     },
     "execution_count": 19,
     "metadata": {},
     "output_type": "execute_result"
    }
   ],
   "source": [
    "genome_tags_df.head(3)"
   ]
  },
  {
   "cell_type": "code",
   "execution_count": 20,
   "id": "d03f5038",
   "metadata": {},
   "outputs": [
    {
     "name": "stdout",
     "output_type": "stream",
     "text": [
      "Missing values per column:\n",
      "tagId    0\n",
      "tag      0\n",
      "dtype: int64\n",
      "\n",
      "Number of duplicate rows:\n",
      "0\n",
      "\n",
      "Unique values per column:\n",
      "tagId    1128\n",
      "tag      1128\n",
      "dtype: int64\n"
     ]
    }
   ],
   "source": [
    "data_quality_summary(genome_tags_df)"
   ]
  },
  {
   "cell_type": "markdown",
   "id": "017c444a",
   "metadata": {},
   "source": [
    "## <u>2. Explanatory analysis</u>"
   ]
  },
  {
   "cell_type": "markdown",
   "id": "98f9faa6",
   "metadata": {},
   "source": [
    "### 2.1 Rating Distribution"
   ]
  },
  {
   "cell_type": "code",
   "execution_count": 21,
   "id": "f7784033",
   "metadata": {},
   "outputs": [
    {
     "data": {
      "image/png": "[encoded data removed]",
      "text/plain": [
       "<Figure size 1000x600 with 1 Axes>"
      ]
     },
     "metadata": {},
     "output_type": "display_data"
    }
   ],
   "source": [
    "# Build bar plot for the rating distribution\n",
    "plt.figure(figsize=(8, 6))\n",
    "rating_counts = rating_df['rating'].value_counts(normalize=True).sort_index()\n",
    "rating_counts.plot(kind='bar', figsize=(10, 6), color='skyblue')\n",
    "plt.title('Distribution of Movie Ratings')\n",
    "plt.xlabel('Ratings')\n",
    "plt.ylabel('Frequency')\n",
    "plt.xticks(rotation=90)\n",
    "plt.show()\n"
   ]
  },
  {
   "cell_type": "markdown",
   "id": "cface99f",
   "metadata": {},
   "source": [
    "<u>Comment:</u>\n",
    "\n",
    "As we can observe from the bar plot, there is a noticeable skew toward higher ratings, with 4.0 being the most frequent. This likely reflects a combination of psychological tendencies and selection bias. One possible explanation is that users tend to rate movies they enjoyed, while avoiding those they disliked or found forgettable.\n",
    "\n",
    "Additionally, a rating of 3.0, although numerically near the midpoint of the scale, often reflects a neutral or indifferent opinion rather than a truly positive one. This distinction should be considered in the implementation of the recommendation system, for example by treating ratings ≥ 4.0 as positive (worth recommending) and those ≤ 3.5 as negative or neutral."
   ]
  }
 ],
 "metadata": {
  "kernelspec": {
   "display_name": "Python 3",
   "language": "python",
   "name": "python3"
  },
  "language_info": {
   "codemirror_mode": {
    "name": "ipython",
    "version": 3
   },
   "file_extension": ".py",
   "mimetype": "text/x-python",
   "name": "python",
   "nbconvert_exporter": "python",
   "pygments_lexer": "ipython3",
   "version": "3.10.11"
  }
 },
 "nbformat": 4,
 "nbformat_minor": 5
}
